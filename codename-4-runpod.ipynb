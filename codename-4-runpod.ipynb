{
 "cells": [
  {
   "cell_type": "code",
   "execution_count": null,
   "id": "fa9c7709-bfc0-4c6b-be67-47390f691809",
   "metadata": {},
   "outputs": [],
   "source": [
    "from IPython.display import clear_output\n",
    "!git clone https://github.com/mocxlbor/codename-rvc-fork-4\n",
    "%cd /workspace/codename-rvc-fork-4/rvc/models/pretraineds/custom\n",
    "!wget https://huggingface.co/SeoulStreamingStation/BlackTone_RVC_Pretrained/resolve/main/G_Large_BlackTone_32k.pth\n",
    "!wget https://huggingface.co/SeoulStreamingStation/BlackTone_RVC_Pretrained/resolve/main/D_Large_BlackTone_32k.pth\n",
    "%cd /workspace/codename-rvc-fork-4\n",
    "!pip install -r requirements_cloud.txt --ignore-installed blinker\n",
    "!apt update -y\n",
    "!apt install ffmpeg -y\n",
    "!python app.py --share"
   ]
  }
 ],
 "metadata": {
  "kernelspec": {
   "display_name": "Python 3 (ipykernel)",
   "language": "python",
   "name": "python3"
  },
  "language_info": {
   "codemirror_mode": {
    "name": "ipython",
    "version": 3
   },
   "file_extension": ".py",
   "mimetype": "text/x-python",
   "name": "python",
   "nbconvert_exporter": "python",
   "pygments_lexer": "ipython3",
   "version": "3.11.11"
  }
 },
 "nbformat": 4,
 "nbformat_minor": 5
}
